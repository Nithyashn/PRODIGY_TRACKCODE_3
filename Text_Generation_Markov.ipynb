{
  "nbformat": 4,
  "nbformat_minor": 0,
  "metadata": {
    "colab": {
      "provenance": [],
      "authorship_tag": "ABX9TyNh6UBqrpeExu2Lc2GT22Kf",
      "include_colab_link": true
    },
    "kernelspec": {
      "name": "python3",
      "display_name": "Python 3"
    },
    "language_info": {
      "name": "python"
    }
  },
  "cells": [
    {
      "cell_type": "markdown",
      "metadata": {
        "id": "view-in-github",
        "colab_type": "text"
      },
      "source": [
        "<a href=\"https://colab.research.google.com/github/Nithyashn/PRODIGY_TRACKCODE_3/blob/main/Text_Generation_Markov.ipynb\" target=\"_parent\"><img src=\"https://colab.research.google.com/assets/colab-badge.svg\" alt=\"Open In Colab\"/></a>"
      ]
    },
    {
      "cell_type": "code",
      "execution_count": 1,
      "metadata": {
        "colab": {
          "base_uri": "https://localhost:8080/"
        },
        "id": "u1lwomxd-zDo",
        "outputId": "0eee6372-44f0-4ee4-8b01-fb3c9a1ef6b5"
      },
      "outputs": [
        {
          "output_type": "stream",
          "name": "stdout",
          "text": [
            "Collecting markovify\n",
            "  Downloading markovify-0.9.4-py3-none-any.whl.metadata (23 kB)\n",
            "Collecting unidecode (from markovify)\n",
            "  Downloading Unidecode-1.4.0-py3-none-any.whl.metadata (13 kB)\n",
            "Downloading markovify-0.9.4-py3-none-any.whl (19 kB)\n",
            "Downloading Unidecode-1.4.0-py3-none-any.whl (235 kB)\n",
            "\u001b[2K   \u001b[90m━━━━━━━━━━━━━━━━━━━━━━━━━━━━━━━━━━━━━━━━\u001b[0m \u001b[32m235.8/235.8 kB\u001b[0m \u001b[31m12.0 MB/s\u001b[0m eta \u001b[36m0:00:00\u001b[0m\n",
            "\u001b[?25hInstalling collected packages: unidecode, markovify\n",
            "Successfully installed markovify-0.9.4 unidecode-1.4.0\n"
          ]
        }
      ],
      "source": [
        "!pip install markovify"
      ]
    },
    {
      "cell_type": "code",
      "source": [
        "import markovify\n",
        "import random"
      ],
      "metadata": {
        "id": "uyjZRCdaAF_B"
      },
      "execution_count": 2,
      "outputs": []
    },
    {
      "cell_type": "code",
      "source": [
        "with open(\"/content/pride.txt\", encoding='latin-1') as f:\n",
        "  text = f.read()\n",
        "\n",
        "  text_model = markovify.Text(text)"
      ],
      "metadata": {
        "id": "fnTjCqKLASZ9"
      },
      "execution_count": 3,
      "outputs": []
    },
    {
      "cell_type": "code",
      "source": [
        "print( text_model.make_sentence() )"
      ],
      "metadata": {
        "colab": {
          "base_uri": "https://localhost:8080/"
        },
        "id": "sOxqs-NtAWua",
        "outputId": "ef4715b3-135a-49a2-f88e-e4a9121ce35e"
      },
      "execution_count": 4,
      "outputs": [
        {
          "output_type": "stream",
          "name": "stdout",
          "text": [
            "The necessity must be in his humble abode, and the liberty of asking what you are looking for my general intention in favour of your regard, can have my mornings to myself, said she, you have given me more credit than can be.\n"
          ]
        }
      ]
    },
    {
      "cell_type": "code",
      "source": [
        "# generate a short sentence\n",
        "print(text_model.make_short_sentence(140))"
      ],
      "metadata": {
        "colab": {
          "base_uri": "https://localhost:8080/"
        },
        "id": "7OA1Nev3Ab1d",
        "outputId": "31f8703e-58f7-4f4e-bac8-ce8a64fe07df"
      },
      "execution_count": 5,
      "outputs": [
        {
          "output_type": "stream",
          "name": "stdout",
          "text": [
            "Although closely resembling in size and furniture of Rosings.\n"
          ]
        }
      ]
    },
    {
      "cell_type": "code",
      "source": [
        "# build the model with a larger state size, then generate a sentence\n",
        "larger_state_text_model = markovify.Text(text, state_size=2)\n",
        "print( larger_state_text_model.make_sentence() )"
      ],
      "metadata": {
        "colab": {
          "base_uri": "https://localhost:8080/"
        },
        "id": "5VO6a7Q_AeT7",
        "outputId": "835ef872-134c-45bf-8ba5-88dc61063d2f"
      },
      "execution_count": 6,
      "outputs": [
        {
          "output_type": "stream",
          "name": "stdout",
          "text": [
            "So much the appearance of a plant of the world, and wholly engrossed by her niece; and the large Eucalypti near Maitland on the branches, and in the middle of all that he comes into the room.\n"
          ]
        }
      ]
    },
    {
      "cell_type": "code",
      "source": [
        "for i in range(12):\n",
        "  print( larger_state_text_model.make_sentence() )"
      ],
      "metadata": {
        "colab": {
          "base_uri": "https://localhost:8080/"
        },
        "id": "l7VtO7O6Aj-8",
        "outputId": "ee487d2e-182a-4c0a-b17a-ab23150c8126"
      },
      "execution_count": 7,
      "outputs": [
        {
          "output_type": "stream",
          "name": "stdout",
          "text": [
            "I quite agree with Messrs. Jardine and Selby when they parted at last appear; but the ladies, not having had any governess. You thought the same, and she called yesterday with her twice! and she soon grew too much upon your guard.\n",
            "Mrs. Hurst sang with her father had done more, or where natural beauty had been always quite right.\n",
            "There was no part of Mrs. Bennet and Lydia would be, we are forced to give me his directions, which I should not miss the opportunity of doing what he says on that easiness of temper, she could not look, she could encourage him by any woman but to see whether Bingley would return to his credit. I do not trust you will only tell her what lady had the comfort and elegance of their acquaintance with you, as his father washave done this.\n",
            "I should say, one of the hillock, so that any number may be generally observed in small companies, which appear to be killed. Mrs. Bennet to Elizabeth.\n",
            "But the person to confess how much the matter is absolutely settled.\n",
            "Besides, there was not a real interest in that country being quite unable to waste such a seclusion from the posterior angle of the continent.\n",
            "That will not do, said Elizabeth; you never will be absolutely prohibited, unless you looked up to a person so wholly give him an invitation to the George, I do think it an excellent understandingthough I am sure, in obliging the company with him, and if you find that the serenity of a visitor.\n",
            "As far as to doubt the rest.\n",
            "When she came into my room. The consequence of its wings gives it much the matter is absolutely settled.\n",
            "Women fancy admiration means more than like her, if she had likewise seen for an instrument, and examine their own had been speaking; Mr. Bingley and his eyes from his earliest hours he was gone, which gave them to be fully comprehended.\n",
            "Like the other hand, the salmon tint of the natural size.\n",
            "My object has been here only six with him for such a thing for our neighbours, and laugh at their tips; tail black; bill black in some manner connected with the present, which is not true.\n"
          ]
        }
      ]
    },
    {
      "cell_type": "code",
      "source": [
        "with open(\"/content/pride.txt\", encoding='latin-1') as f:\n",
        "  text = f.read()\n",
        "\n",
        "\n",
        "text_model = markovify.Text(text)"
      ],
      "metadata": {
        "id": "GblE5QVtApx8"
      },
      "execution_count": 8,
      "outputs": []
    },
    {
      "cell_type": "code",
      "source": [
        "print( text_model.make_sentence() )"
      ],
      "metadata": {
        "colab": {
          "base_uri": "https://localhost:8080/"
        },
        "id": "or8aGHtDAuz7",
        "outputId": "599fd66a-17d6-4e0a-e187-f24e0a7b4cdb"
      },
      "execution_count": 9,
      "outputs": [
        {
          "output_type": "stream",
          "name": "stdout",
          "text": [
            "But it is often seen growing from their confinement, scratch down and cried for two hours, giving way to Newcastle.\n"
          ]
        }
      ]
    },
    {
      "cell_type": "code",
      "source": [
        "novel = ''\n",
        "while (len( novel.split(\" \")) < 500):\n",
        "  for i in range(random.randrange(3,9)):\n",
        "    novel += text_model.make_sentence() + \" \"\n",
        "  novel += \"\\n\\n\"\n",
        "    # print(text_model.make_sentence()\n",
        "\n",
        "print(novel)"
      ],
      "metadata": {
        "colab": {
          "base_uri": "https://localhost:8080/"
        },
        "id": "o3dY6hREAyom",
        "outputId": "d833d77e-c65a-48eb-ae82-6ebc2a44518a"
      },
      "execution_count": 10,
      "outputs": [
        {
          "output_type": "stream",
          "name": "stdout",
          "text": [
            "I am sure. After a few feet of the body, I could not have made him forget that I believed it impossible to be settled within so easy a distance of Hunsford was vacant; and the liberty of a turn which that gentleman did by no means entered into her head. And what do I ask to what is to be paid to the society of a bank, from twentyfive to thirty in number; while near the tip with pale blue, offering a decided preference for the kindness of the secondaries; primaries brown, edged with bluish green; the remaining feathers have the earliest assurance of the chest and flanks white, the other members of this bird, and from a state of nature, and by Charlottes evident enjoyment of music than myself, for I suppose you have to accuse him of irreligious or immoral habits; that among his own arts, said Fitzwilliam, without applying to see their father and mother knew nothing of a most unfortunate affair, and will I trust I am sure she did not succeed in finding herself at last only suppose his visit to proceed from the extravagance of his having an estate of Mr. Darcy. Write to me that he had formed; but he said to Darcy: Miss Bennet would have been said, and shall probably trespass on your side. \n",
            "\n",
            "My manners must have had some relations for whom there was something more substantial, in the visit. I was in you, my Lizzy, to anyone less worthy. Give my love by suspense, according to this gentleman dislikes the amusement in general, since Jane united, with great admiration for about half the size of the world, she must feel on his face, became him; but, though she would like Lady Catherine, Sir William, and Mr. Collinss respectability, and Charlottes steady, prudent character. When Darcy returned within the same time as Mr. Gardiner himself did not visit. As a cage-bird this species have always supposed it to alight upon the spot to share with Jane again, and the invariable kindness of her mind, she was mistress enough of your lovers? Among those who felt themselves inferior the belief of her sister looking so miserably ill, that it forms one of the different parts of the huts of the coast. There is in everything a most delightful evening, a most forbidding, disagreeable countenance, and easy, unaffected manners. Columba purpurata, Auct., but if the birds of the two fourth with Maria Lucas, and was so indifferent, and lovers were of course wanted more than you ought, said Mrs. Bennet. \n",
            "\n",
            "Although strictly gregarious, they appear to be done, and the head of a plant of the young ladies are interested by books of a very gallant thing, and called out to my mother; she cried. Make haste, and come into my room. The consequence of the under surface grassgreen; upper wing-coverts beautiful lazuline blue; under surface silvery grey, the feathers of the inner webs of the moral, if our comfort springs from a hole in a hollow among the Gallinaceæ, with the birds operations. But surely, said she, you have given him credit for the sentiments which Mr. Wickham had been exactly contrariwise. The first notice of this bird might with propriety in the lot she had been soon and as soon as any I ever heard. The figures are those of a conical form, twenty feet in height and sixty in circumference at the extremity of each other. The brushy districts are the only species of the head; feathers of the lowland, and Keer-jan-dee of the face of this parish, where it feeds on the very last day or two, to shoot there for the remainder grass-green; the cheeks, wings and body being less strongly contrasted than those of _S. A striking analogy in the markings of brown; feathers of the genus yet discovered. His revenge would have accepted him, or merely from the very essence of love? And she was tempted, by the apprehension of Charlottes dying an old favourite; during my own observation, I believe the birds from New Guinea; but I think of it less than infamous, was capable of engaging my affection. \n",
            "\n",
            "\n"
          ]
        }
      ]
    },
    {
      "cell_type": "code",
      "source": [],
      "metadata": {
        "id": "BLFYYVjRA2jx"
      },
      "execution_count": null,
      "outputs": []
    }
  ]
}